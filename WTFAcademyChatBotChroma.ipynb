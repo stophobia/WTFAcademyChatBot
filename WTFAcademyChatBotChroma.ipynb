{
  "cells": [
    {
      "cell_type": "markdown",
      "metadata": {
        "colab_type": "text",
        "id": "view-in-github"
      },
      "source": [
        "<a href=\"https://colab.research.google.com/github/sugarforever/WTFAcademyChatBot/blob/main/WTFAcademyChatBot.ipynb\" target=\"_parent\"><img src=\"https://colab.research.google.com/assets/colab-badge.svg\" alt=\"Open In Colab\"/></a>"
      ]
    },
    {
      "cell_type": "code",
      "execution_count": 12,
      "metadata": {
        "id": "Nifwi9FrKb3g"
      },
      "outputs": [
        {
          "name": "stdout",
          "output_type": "stream",
          "text": [
            "Requirement already satisfied: openai in /Users/wyang14/.pyenv/versions/3.9.16/lib/python3.9/site-packages (0.27.4)\n",
            "Requirement already satisfied: requests>=2.20 in /Users/wyang14/.pyenv/versions/3.9.16/lib/python3.9/site-packages (from openai) (2.28.2)\n",
            "Requirement already satisfied: aiohttp in /Users/wyang14/.pyenv/versions/3.9.16/lib/python3.9/site-packages (from openai) (3.8.4)\n",
            "Requirement already satisfied: tqdm in /Users/wyang14/.pyenv/versions/3.9.16/lib/python3.9/site-packages (from openai) (4.65.0)\n",
            "Requirement already satisfied: charset-normalizer<4,>=2 in /Users/wyang14/.pyenv/versions/3.9.16/lib/python3.9/site-packages (from requests>=2.20->openai) (3.1.0)\n",
            "Requirement already satisfied: certifi>=2017.4.17 in /Users/wyang14/.pyenv/versions/3.9.16/lib/python3.9/site-packages (from requests>=2.20->openai) (2022.12.7)\n",
            "Requirement already satisfied: urllib3<1.27,>=1.21.1 in /Users/wyang14/.pyenv/versions/3.9.16/lib/python3.9/site-packages (from requests>=2.20->openai) (1.26.15)\n",
            "Requirement already satisfied: idna<4,>=2.5 in /Users/wyang14/.pyenv/versions/3.9.16/lib/python3.9/site-packages (from requests>=2.20->openai) (3.4)\n",
            "Requirement already satisfied: aiosignal>=1.1.2 in /Users/wyang14/.pyenv/versions/3.9.16/lib/python3.9/site-packages (from aiohttp->openai) (1.3.1)\n",
            "Requirement already satisfied: multidict<7.0,>=4.5 in /Users/wyang14/.pyenv/versions/3.9.16/lib/python3.9/site-packages (from aiohttp->openai) (6.0.4)\n",
            "Requirement already satisfied: frozenlist>=1.1.1 in /Users/wyang14/.pyenv/versions/3.9.16/lib/python3.9/site-packages (from aiohttp->openai) (1.3.3)\n",
            "Requirement already satisfied: yarl<2.0,>=1.0 in /Users/wyang14/.pyenv/versions/3.9.16/lib/python3.9/site-packages (from aiohttp->openai) (1.8.2)\n",
            "Requirement already satisfied: attrs>=17.3.0 in /Users/wyang14/.pyenv/versions/3.9.16/lib/python3.9/site-packages (from aiohttp->openai) (22.2.0)\n",
            "Requirement already satisfied: async-timeout<5.0,>=4.0.0a3 in /Users/wyang14/.pyenv/versions/3.9.16/lib/python3.9/site-packages (from aiohttp->openai) (4.0.2)\n",
            "Note: you may need to restart the kernel to use updated packages.\n",
            "Requirement already satisfied: chromadb in /Users/wyang14/.pyenv/versions/3.9.16/lib/python3.9/site-packages (0.3.21)\n",
            "Requirement already satisfied: sentence-transformers>=2.2.2 in /Users/wyang14/.pyenv/versions/3.9.16/lib/python3.9/site-packages (from chromadb) (2.2.2)\n",
            "Requirement already satisfied: numpy>=1.21.6 in /Users/wyang14/.pyenv/versions/3.9.16/lib/python3.9/site-packages (from chromadb) (1.23.5)\n",
            "Requirement already satisfied: posthog>=2.4.0 in /Users/wyang14/.pyenv/versions/3.9.16/lib/python3.9/site-packages (from chromadb) (3.0.0)\n",
            "Requirement already satisfied: fastapi>=0.85.1 in /Users/wyang14/.pyenv/versions/3.9.16/lib/python3.9/site-packages (from chromadb) (0.95.1)\n",
            "Requirement already satisfied: uvicorn[standard]>=0.18.3 in /Users/wyang14/.pyenv/versions/3.9.16/lib/python3.9/site-packages (from chromadb) (0.21.1)\n",
            "Requirement already satisfied: duckdb>=0.7.1 in /Users/wyang14/.pyenv/versions/3.9.16/lib/python3.9/site-packages (from chromadb) (0.7.1)\n",
            "Requirement already satisfied: hnswlib>=0.7 in /Users/wyang14/.pyenv/versions/3.9.16/lib/python3.9/site-packages (from chromadb) (0.7.0)\n",
            "Requirement already satisfied: clickhouse-connect>=0.5.7 in /Users/wyang14/.pyenv/versions/3.9.16/lib/python3.9/site-packages (from chromadb) (0.5.20)\n",
            "Requirement already satisfied: pandas>=1.3 in /Users/wyang14/.pyenv/versions/3.9.16/lib/python3.9/site-packages (from chromadb) (1.5.3)\n",
            "Requirement already satisfied: requests>=2.28 in /Users/wyang14/.pyenv/versions/3.9.16/lib/python3.9/site-packages (from chromadb) (2.28.2)\n",
            "Requirement already satisfied: pydantic>=1.9 in /Users/wyang14/.pyenv/versions/3.9.16/lib/python3.9/site-packages (from chromadb) (1.10.7)\n",
            "Requirement already satisfied: lz4 in /Users/wyang14/.pyenv/versions/3.9.16/lib/python3.9/site-packages (from clickhouse-connect>=0.5.7->chromadb) (4.3.2)\n",
            "Requirement already satisfied: certifi in /Users/wyang14/.pyenv/versions/3.9.16/lib/python3.9/site-packages (from clickhouse-connect>=0.5.7->chromadb) (2022.12.7)\n",
            "Requirement already satisfied: urllib3>=1.26 in /Users/wyang14/.pyenv/versions/3.9.16/lib/python3.9/site-packages (from clickhouse-connect>=0.5.7->chromadb) (1.26.15)\n",
            "Requirement already satisfied: pytz in /Users/wyang14/.pyenv/versions/3.9.16/lib/python3.9/site-packages (from clickhouse-connect>=0.5.7->chromadb) (2023.2)\n",
            "Requirement already satisfied: zstandard in /Users/wyang14/.pyenv/versions/3.9.16/lib/python3.9/site-packages (from clickhouse-connect>=0.5.7->chromadb) (0.21.0)\n",
            "Requirement already satisfied: starlette<0.27.0,>=0.26.1 in /Users/wyang14/.pyenv/versions/3.9.16/lib/python3.9/site-packages (from fastapi>=0.85.1->chromadb) (0.26.1)\n",
            "Requirement already satisfied: python-dateutil>=2.8.1 in /Users/wyang14/.pyenv/versions/3.9.16/lib/python3.9/site-packages (from pandas>=1.3->chromadb) (2.8.2)\n",
            "Requirement already satisfied: backoff>=1.10.0 in /Users/wyang14/.pyenv/versions/3.9.16/lib/python3.9/site-packages (from posthog>=2.4.0->chromadb) (2.2.1)\n",
            "Requirement already satisfied: six>=1.5 in /Users/wyang14/.pyenv/versions/3.9.16/lib/python3.9/site-packages (from posthog>=2.4.0->chromadb) (1.16.0)\n",
            "Requirement already satisfied: monotonic>=1.5 in /Users/wyang14/.pyenv/versions/3.9.16/lib/python3.9/site-packages (from posthog>=2.4.0->chromadb) (1.6)\n",
            "Requirement already satisfied: typing-extensions>=4.2.0 in /Users/wyang14/.pyenv/versions/3.9.16/lib/python3.9/site-packages (from pydantic>=1.9->chromadb) (4.5.0)\n",
            "Requirement already satisfied: charset-normalizer<4,>=2 in /Users/wyang14/.pyenv/versions/3.9.16/lib/python3.9/site-packages (from requests>=2.28->chromadb) (3.1.0)\n",
            "Requirement already satisfied: idna<4,>=2.5 in /Users/wyang14/.pyenv/versions/3.9.16/lib/python3.9/site-packages (from requests>=2.28->chromadb) (3.4)\n",
            "Requirement already satisfied: transformers<5.0.0,>=4.6.0 in /Users/wyang14/.pyenv/versions/3.9.16/lib/python3.9/site-packages (from sentence-transformers>=2.2.2->chromadb) (4.27.4)\n",
            "Requirement already satisfied: tqdm in /Users/wyang14/.pyenv/versions/3.9.16/lib/python3.9/site-packages (from sentence-transformers>=2.2.2->chromadb) (4.65.0)\n",
            "Requirement already satisfied: torch>=1.6.0 in /Users/wyang14/.pyenv/versions/3.9.16/lib/python3.9/site-packages (from sentence-transformers>=2.2.2->chromadb) (2.0.0)\n",
            "Requirement already satisfied: torchvision in /Users/wyang14/.pyenv/versions/3.9.16/lib/python3.9/site-packages (from sentence-transformers>=2.2.2->chromadb) (0.15.1)\n",
            "Requirement already satisfied: scikit-learn in /Users/wyang14/.pyenv/versions/3.9.16/lib/python3.9/site-packages (from sentence-transformers>=2.2.2->chromadb) (1.2.2)\n",
            "Requirement already satisfied: scipy in /Users/wyang14/.pyenv/versions/3.9.16/lib/python3.9/site-packages (from sentence-transformers>=2.2.2->chromadb) (1.10.1)\n",
            "Requirement already satisfied: nltk in /Users/wyang14/.pyenv/versions/3.9.16/lib/python3.9/site-packages (from sentence-transformers>=2.2.2->chromadb) (3.8.1)\n",
            "Requirement already satisfied: sentencepiece in /Users/wyang14/.pyenv/versions/3.9.16/lib/python3.9/site-packages (from sentence-transformers>=2.2.2->chromadb) (0.1.98)\n",
            "Requirement already satisfied: huggingface-hub>=0.4.0 in /Users/wyang14/.pyenv/versions/3.9.16/lib/python3.9/site-packages (from sentence-transformers>=2.2.2->chromadb) (0.13.3)\n",
            "Requirement already satisfied: h11>=0.8 in /Users/wyang14/.pyenv/versions/3.9.16/lib/python3.9/site-packages (from uvicorn[standard]>=0.18.3->chromadb) (0.14.0)\n",
            "Requirement already satisfied: click>=7.0 in /Users/wyang14/.pyenv/versions/3.9.16/lib/python3.9/site-packages (from uvicorn[standard]>=0.18.3->chromadb) (8.1.3)\n",
            "Requirement already satisfied: watchfiles>=0.13 in /Users/wyang14/.pyenv/versions/3.9.16/lib/python3.9/site-packages (from uvicorn[standard]>=0.18.3->chromadb) (0.19.0)\n",
            "Requirement already satisfied: pyyaml>=5.1 in /Users/wyang14/.pyenv/versions/3.9.16/lib/python3.9/site-packages (from uvicorn[standard]>=0.18.3->chromadb) (5.4.1)\n",
            "Requirement already satisfied: websockets>=10.4 in /Users/wyang14/.pyenv/versions/3.9.16/lib/python3.9/site-packages (from uvicorn[standard]>=0.18.3->chromadb) (11.0.1)\n",
            "Requirement already satisfied: python-dotenv>=0.13 in /Users/wyang14/.pyenv/versions/3.9.16/lib/python3.9/site-packages (from uvicorn[standard]>=0.18.3->chromadb) (1.0.0)\n",
            "Requirement already satisfied: httptools>=0.5.0 in /Users/wyang14/.pyenv/versions/3.9.16/lib/python3.9/site-packages (from uvicorn[standard]>=0.18.3->chromadb) (0.5.0)\n",
            "Requirement already satisfied: uvloop!=0.15.0,!=0.15.1,>=0.14.0 in /Users/wyang14/.pyenv/versions/3.9.16/lib/python3.9/site-packages (from uvicorn[standard]>=0.18.3->chromadb) (0.17.0)\n",
            "Requirement already satisfied: packaging>=20.9 in /Users/wyang14/.pyenv/versions/3.9.16/lib/python3.9/site-packages (from huggingface-hub>=0.4.0->sentence-transformers>=2.2.2->chromadb) (23.0)\n",
            "Requirement already satisfied: filelock in /Users/wyang14/.pyenv/versions/3.9.16/lib/python3.9/site-packages (from huggingface-hub>=0.4.0->sentence-transformers>=2.2.2->chromadb) (3.10.7)\n",
            "Requirement already satisfied: anyio<5,>=3.4.0 in /Users/wyang14/.pyenv/versions/3.9.16/lib/python3.9/site-packages (from starlette<0.27.0,>=0.26.1->fastapi>=0.85.1->chromadb) (3.6.2)\n",
            "Requirement already satisfied: jinja2 in /Users/wyang14/.pyenv/versions/3.9.16/lib/python3.9/site-packages (from torch>=1.6.0->sentence-transformers>=2.2.2->chromadb) (3.1.2)\n",
            "Requirement already satisfied: networkx in /Users/wyang14/.pyenv/versions/3.9.16/lib/python3.9/site-packages (from torch>=1.6.0->sentence-transformers>=2.2.2->chromadb) (3.0)\n",
            "Requirement already satisfied: sympy in /Users/wyang14/.pyenv/versions/3.9.16/lib/python3.9/site-packages (from torch>=1.6.0->sentence-transformers>=2.2.2->chromadb) (1.11.1)\n",
            "Requirement already satisfied: tokenizers!=0.11.3,<0.14,>=0.11.1 in /Users/wyang14/.pyenv/versions/3.9.16/lib/python3.9/site-packages (from transformers<5.0.0,>=4.6.0->sentence-transformers>=2.2.2->chromadb) (0.13.2)\n",
            "Requirement already satisfied: regex!=2019.12.17 in /Users/wyang14/.pyenv/versions/3.9.16/lib/python3.9/site-packages (from transformers<5.0.0,>=4.6.0->sentence-transformers>=2.2.2->chromadb) (2023.3.23)\n",
            "Requirement already satisfied: joblib in /Users/wyang14/.pyenv/versions/3.9.16/lib/python3.9/site-packages (from nltk->sentence-transformers>=2.2.2->chromadb) (1.2.0)\n",
            "Requirement already satisfied: threadpoolctl>=2.0.0 in /Users/wyang14/.pyenv/versions/3.9.16/lib/python3.9/site-packages (from scikit-learn->sentence-transformers>=2.2.2->chromadb) (3.1.0)\n",
            "Requirement already satisfied: pillow!=8.3.*,>=5.3.0 in /Users/wyang14/.pyenv/versions/3.9.16/lib/python3.9/site-packages (from torchvision->sentence-transformers>=2.2.2->chromadb) (9.5.0)\n",
            "Requirement already satisfied: sniffio>=1.1 in /Users/wyang14/.pyenv/versions/3.9.16/lib/python3.9/site-packages (from anyio<5,>=3.4.0->starlette<0.27.0,>=0.26.1->fastapi>=0.85.1->chromadb) (1.3.0)\n",
            "Requirement already satisfied: MarkupSafe>=2.0 in /Users/wyang14/.pyenv/versions/3.9.16/lib/python3.9/site-packages (from jinja2->torch>=1.6.0->sentence-transformers>=2.2.2->chromadb) (2.1.2)\n",
            "Requirement already satisfied: mpmath>=0.19 in /Users/wyang14/.pyenv/versions/3.9.16/lib/python3.9/site-packages (from sympy->torch>=1.6.0->sentence-transformers>=2.2.2->chromadb) (1.3.0)\n",
            "Note: you may need to restart the kernel to use updated packages.\n",
            "Requirement already satisfied: langchain in /Users/wyang14/.pyenv/versions/3.9.16/lib/python3.9/site-packages (0.0.139)\n",
            "Requirement already satisfied: numpy<2,>=1 in /Users/wyang14/.pyenv/versions/3.9.16/lib/python3.9/site-packages (from langchain) (1.23.5)\n",
            "Requirement already satisfied: async-timeout<5.0.0,>=4.0.0 in /Users/wyang14/.pyenv/versions/3.9.16/lib/python3.9/site-packages (from langchain) (4.0.2)\n",
            "Requirement already satisfied: aiohttp<4.0.0,>=3.8.3 in /Users/wyang14/.pyenv/versions/3.9.16/lib/python3.9/site-packages (from langchain) (3.8.4)\n",
            "Requirement already satisfied: SQLAlchemy<2,>=1 in /Users/wyang14/.pyenv/versions/3.9.16/lib/python3.9/site-packages (from langchain) (1.4.47)\n",
            "Requirement already satisfied: tenacity<9.0.0,>=8.1.0 in /Users/wyang14/.pyenv/versions/3.9.16/lib/python3.9/site-packages (from langchain) (8.2.2)\n",
            "Requirement already satisfied: PyYAML>=5.4.1 in /Users/wyang14/.pyenv/versions/3.9.16/lib/python3.9/site-packages (from langchain) (5.4.1)\n",
            "Requirement already satisfied: pydantic<2,>=1 in /Users/wyang14/.pyenv/versions/3.9.16/lib/python3.9/site-packages (from langchain) (1.10.7)\n",
            "Requirement already satisfied: gptcache>=0.1.7 in /Users/wyang14/.pyenv/versions/3.9.16/lib/python3.9/site-packages (from langchain) (0.1.10)\n",
            "Requirement already satisfied: requests<3,>=2 in /Users/wyang14/.pyenv/versions/3.9.16/lib/python3.9/site-packages (from langchain) (2.28.2)\n",
            "Requirement already satisfied: dataclasses-json<0.6.0,>=0.5.7 in /Users/wyang14/.pyenv/versions/3.9.16/lib/python3.9/site-packages (from langchain) (0.5.7)\n",
            "Requirement already satisfied: openapi-schema-pydantic<2.0,>=1.2 in /Users/wyang14/.pyenv/versions/3.9.16/lib/python3.9/site-packages (from langchain) (1.2.4)\n",
            "Requirement already satisfied: multidict<7.0,>=4.5 in /Users/wyang14/.pyenv/versions/3.9.16/lib/python3.9/site-packages (from aiohttp<4.0.0,>=3.8.3->langchain) (6.0.4)\n",
            "Requirement already satisfied: frozenlist>=1.1.1 in /Users/wyang14/.pyenv/versions/3.9.16/lib/python3.9/site-packages (from aiohttp<4.0.0,>=3.8.3->langchain) (1.3.3)\n",
            "Requirement already satisfied: charset-normalizer<4.0,>=2.0 in /Users/wyang14/.pyenv/versions/3.9.16/lib/python3.9/site-packages (from aiohttp<4.0.0,>=3.8.3->langchain) (3.1.0)\n",
            "Requirement already satisfied: attrs>=17.3.0 in /Users/wyang14/.pyenv/versions/3.9.16/lib/python3.9/site-packages (from aiohttp<4.0.0,>=3.8.3->langchain) (22.2.0)\n",
            "Requirement already satisfied: aiosignal>=1.1.2 in /Users/wyang14/.pyenv/versions/3.9.16/lib/python3.9/site-packages (from aiohttp<4.0.0,>=3.8.3->langchain) (1.3.1)\n",
            "Requirement already satisfied: yarl<2.0,>=1.0 in /Users/wyang14/.pyenv/versions/3.9.16/lib/python3.9/site-packages (from aiohttp<4.0.0,>=3.8.3->langchain) (1.8.2)\n",
            "Requirement already satisfied: typing-inspect>=0.4.0 in /Users/wyang14/.pyenv/versions/3.9.16/lib/python3.9/site-packages (from dataclasses-json<0.6.0,>=0.5.7->langchain) (0.8.0)\n",
            "Requirement already satisfied: marshmallow<4.0.0,>=3.3.0 in /Users/wyang14/.pyenv/versions/3.9.16/lib/python3.9/site-packages (from dataclasses-json<0.6.0,>=0.5.7->langchain) (3.19.0)\n",
            "Requirement already satisfied: marshmallow-enum<2.0.0,>=1.5.1 in /Users/wyang14/.pyenv/versions/3.9.16/lib/python3.9/site-packages (from dataclasses-json<0.6.0,>=0.5.7->langchain) (1.5.1)\n",
            "Requirement already satisfied: cachetools in /Users/wyang14/.pyenv/versions/3.9.16/lib/python3.9/site-packages (from gptcache>=0.1.7->langchain) (5.3.0)\n",
            "Requirement already satisfied: openai in /Users/wyang14/.pyenv/versions/3.9.16/lib/python3.9/site-packages (from gptcache>=0.1.7->langchain) (0.27.4)\n",
            "Requirement already satisfied: typing-extensions>=4.2.0 in /Users/wyang14/.pyenv/versions/3.9.16/lib/python3.9/site-packages (from pydantic<2,>=1->langchain) (4.5.0)\n",
            "Requirement already satisfied: urllib3<1.27,>=1.21.1 in /Users/wyang14/.pyenv/versions/3.9.16/lib/python3.9/site-packages (from requests<3,>=2->langchain) (1.26.15)\n",
            "Requirement already satisfied: certifi>=2017.4.17 in /Users/wyang14/.pyenv/versions/3.9.16/lib/python3.9/site-packages (from requests<3,>=2->langchain) (2022.12.7)\n",
            "Requirement already satisfied: idna<4,>=2.5 in /Users/wyang14/.pyenv/versions/3.9.16/lib/python3.9/site-packages (from requests<3,>=2->langchain) (3.4)\n",
            "Requirement already satisfied: greenlet!=0.4.17 in /Users/wyang14/.pyenv/versions/3.9.16/lib/python3.9/site-packages (from SQLAlchemy<2,>=1->langchain) (2.0.2)\n",
            "Requirement already satisfied: packaging>=17.0 in /Users/wyang14/.pyenv/versions/3.9.16/lib/python3.9/site-packages (from marshmallow<4.0.0,>=3.3.0->dataclasses-json<0.6.0,>=0.5.7->langchain) (23.0)\n",
            "Requirement already satisfied: mypy-extensions>=0.3.0 in /Users/wyang14/.pyenv/versions/3.9.16/lib/python3.9/site-packages (from typing-inspect>=0.4.0->dataclasses-json<0.6.0,>=0.5.7->langchain) (1.0.0)\n",
            "Requirement already satisfied: tqdm in /Users/wyang14/.pyenv/versions/3.9.16/lib/python3.9/site-packages (from openai->gptcache>=0.1.7->langchain) (4.65.0)\n",
            "Note: you may need to restart the kernel to use updated packages.\n",
            "Requirement already satisfied: unstructured in /Users/wyang14/.pyenv/versions/3.9.16/lib/python3.9/site-packages (0.5.11)\n",
            "Requirement already satisfied: argilla in /Users/wyang14/.pyenv/versions/3.9.16/lib/python3.9/site-packages (from unstructured) (1.5.1)\n",
            "Requirement already satisfied: lxml in /Users/wyang14/.pyenv/versions/3.9.16/lib/python3.9/site-packages (from unstructured) (4.6.5)\n",
            "Requirement already satisfied: msg_parser in /Users/wyang14/.pyenv/versions/3.9.16/lib/python3.9/site-packages (from unstructured) (1.2.0)\n",
            "Requirement already satisfied: nltk in /Users/wyang14/.pyenv/versions/3.9.16/lib/python3.9/site-packages (from unstructured) (3.8.1)\n",
            "Requirement already satisfied: openpyxl in /Users/wyang14/.pyenv/versions/3.9.16/lib/python3.9/site-packages (from unstructured) (3.1.2)\n",
            "Requirement already satisfied: pandas in /Users/wyang14/.pyenv/versions/3.9.16/lib/python3.9/site-packages (from unstructured) (1.5.3)\n",
            "Requirement already satisfied: pillow in /Users/wyang14/.pyenv/versions/3.9.16/lib/python3.9/site-packages (from unstructured) (9.5.0)\n",
            "Requirement already satisfied: pypandoc in /Users/wyang14/.pyenv/versions/3.9.16/lib/python3.9/site-packages (from unstructured) (1.11)\n",
            "Requirement already satisfied: python-docx in /Users/wyang14/.pyenv/versions/3.9.16/lib/python3.9/site-packages (from unstructured) (0.8.11)\n",
            "Requirement already satisfied: python-pptx in /Users/wyang14/.pyenv/versions/3.9.16/lib/python3.9/site-packages (from unstructured) (0.6.21)\n",
            "Requirement already satisfied: python-magic in /Users/wyang14/.pyenv/versions/3.9.16/lib/python3.9/site-packages (from unstructured) (0.4.27)\n",
            "Requirement already satisfied: markdown in /Users/wyang14/.pyenv/versions/3.9.16/lib/python3.9/site-packages (from unstructured) (3.4.3)\n",
            "Requirement already satisfied: requests in /Users/wyang14/.pyenv/versions/3.9.16/lib/python3.9/site-packages (from unstructured) (2.28.2)\n",
            "Requirement already satisfied: certifi>=2022.12.07 in /Users/wyang14/.pyenv/versions/3.9.16/lib/python3.9/site-packages (from unstructured) (2022.12.7)\n",
            "Requirement already satisfied: monotonic in /Users/wyang14/.pyenv/versions/3.9.16/lib/python3.9/site-packages (from argilla->unstructured) (1.6)\n",
            "Requirement already satisfied: numpy<1.24.0 in /Users/wyang14/.pyenv/versions/3.9.16/lib/python3.9/site-packages (from argilla->unstructured) (1.23.5)\n",
            "Requirement already satisfied: pydantic>=1.7.1 in /Users/wyang14/.pyenv/versions/3.9.16/lib/python3.9/site-packages (from argilla->unstructured) (1.10.7)\n",
            "Requirement already satisfied: tqdm>=4.27.0 in /Users/wyang14/.pyenv/versions/3.9.16/lib/python3.9/site-packages (from argilla->unstructured) (4.65.0)\n",
            "Requirement already satisfied: httpx<0.24,>=0.15 in /Users/wyang14/.pyenv/versions/3.9.16/lib/python3.9/site-packages (from argilla->unstructured) (0.23.3)\n",
            "Requirement already satisfied: deprecated~=1.2.0 in /Users/wyang14/.pyenv/versions/3.9.16/lib/python3.9/site-packages (from argilla->unstructured) (1.2.13)\n",
            "Requirement already satisfied: backoff in /Users/wyang14/.pyenv/versions/3.9.16/lib/python3.9/site-packages (from argilla->unstructured) (2.2.1)\n",
            "Requirement already satisfied: rich<=13.0.1 in /Users/wyang14/.pyenv/versions/3.9.16/lib/python3.9/site-packages (from argilla->unstructured) (13.0.1)\n",
            "Requirement already satisfied: wrapt<1.15,>=1.13 in /Users/wyang14/.pyenv/versions/3.9.16/lib/python3.9/site-packages (from argilla->unstructured) (1.14.1)\n",
            "Requirement already satisfied: packaging>=20.0 in /Users/wyang14/.pyenv/versions/3.9.16/lib/python3.9/site-packages (from argilla->unstructured) (23.0)\n",
            "Requirement already satisfied: pytz>=2020.1 in /Users/wyang14/.pyenv/versions/3.9.16/lib/python3.9/site-packages (from pandas->unstructured) (2023.2)\n",
            "Requirement already satisfied: python-dateutil>=2.8.1 in /Users/wyang14/.pyenv/versions/3.9.16/lib/python3.9/site-packages (from pandas->unstructured) (2.8.2)\n",
            "Requirement already satisfied: importlib-metadata>=4.4 in /Users/wyang14/.pyenv/versions/3.9.16/lib/python3.9/site-packages (from markdown->unstructured) (6.1.0)\n",
            "Requirement already satisfied: olefile>=0.46 in /Users/wyang14/.pyenv/versions/3.9.16/lib/python3.9/site-packages (from msg_parser->unstructured) (0.46)\n",
            "Requirement already satisfied: click in /Users/wyang14/.pyenv/versions/3.9.16/lib/python3.9/site-packages (from nltk->unstructured) (8.1.3)\n",
            "Requirement already satisfied: regex>=2021.8.3 in /Users/wyang14/.pyenv/versions/3.9.16/lib/python3.9/site-packages (from nltk->unstructured) (2023.3.23)\n",
            "Requirement already satisfied: joblib in /Users/wyang14/.pyenv/versions/3.9.16/lib/python3.9/site-packages (from nltk->unstructured) (1.2.0)\n",
            "Requirement already satisfied: et-xmlfile in /Users/wyang14/.pyenv/versions/3.9.16/lib/python3.9/site-packages (from openpyxl->unstructured) (1.1.0)\n",
            "Requirement already satisfied: XlsxWriter>=0.5.7 in /Users/wyang14/.pyenv/versions/3.9.16/lib/python3.9/site-packages (from python-pptx->unstructured) (3.0.9)\n",
            "Requirement already satisfied: urllib3<1.27,>=1.21.1 in /Users/wyang14/.pyenv/versions/3.9.16/lib/python3.9/site-packages (from requests->unstructured) (1.26.15)\n",
            "Requirement already satisfied: charset-normalizer<4,>=2 in /Users/wyang14/.pyenv/versions/3.9.16/lib/python3.9/site-packages (from requests->unstructured) (3.1.0)\n",
            "Requirement already satisfied: idna<4,>=2.5 in /Users/wyang14/.pyenv/versions/3.9.16/lib/python3.9/site-packages (from requests->unstructured) (3.4)\n",
            "Requirement already satisfied: sniffio in /Users/wyang14/.pyenv/versions/3.9.16/lib/python3.9/site-packages (from httpx<0.24,>=0.15->argilla->unstructured) (1.3.0)\n",
            "Requirement already satisfied: httpcore<0.17.0,>=0.15.0 in /Users/wyang14/.pyenv/versions/3.9.16/lib/python3.9/site-packages (from httpx<0.24,>=0.15->argilla->unstructured) (0.16.3)\n",
            "Requirement already satisfied: rfc3986[idna2008]<2,>=1.3 in /Users/wyang14/.pyenv/versions/3.9.16/lib/python3.9/site-packages (from httpx<0.24,>=0.15->argilla->unstructured) (1.5.0)\n",
            "Requirement already satisfied: zipp>=0.5 in /Users/wyang14/.pyenv/versions/3.9.16/lib/python3.9/site-packages (from importlib-metadata>=4.4->markdown->unstructured) (3.15.0)\n",
            "Requirement already satisfied: typing-extensions>=4.2.0 in /Users/wyang14/.pyenv/versions/3.9.16/lib/python3.9/site-packages (from pydantic>=1.7.1->argilla->unstructured) (4.5.0)\n",
            "Requirement already satisfied: six>=1.5 in /Users/wyang14/.pyenv/versions/3.9.16/lib/python3.9/site-packages (from python-dateutil>=2.8.1->pandas->unstructured) (1.16.0)\n",
            "Requirement already satisfied: commonmark<0.10.0,>=0.9.0 in /Users/wyang14/.pyenv/versions/3.9.16/lib/python3.9/site-packages (from rich<=13.0.1->argilla->unstructured) (0.9.1)\n",
            "Requirement already satisfied: pygments<3.0.0,>=2.6.0 in /Users/wyang14/.pyenv/versions/3.9.16/lib/python3.9/site-packages (from rich<=13.0.1->argilla->unstructured) (2.14.0)\n",
            "Requirement already satisfied: anyio<5.0,>=3.0 in /Users/wyang14/.pyenv/versions/3.9.16/lib/python3.9/site-packages (from httpcore<0.17.0,>=0.15.0->httpx<0.24,>=0.15->argilla->unstructured) (3.6.2)\n",
            "Requirement already satisfied: h11<0.15,>=0.13 in /Users/wyang14/.pyenv/versions/3.9.16/lib/python3.9/site-packages (from httpcore<0.17.0,>=0.15.0->httpx<0.24,>=0.15->argilla->unstructured) (0.14.0)\n",
            "Note: you may need to restart the kernel to use updated packages.\n"
          ]
        }
      ],
      "source": [
        "%pip install openai\n",
        "%pip install chromadb\n",
        "%pip install langchain\n",
        "%pip install unstructured"
      ]
    },
    {
      "cell_type": "code",
      "execution_count": null,
      "metadata": {
        "id": "Vf6gWAPLYPib"
      },
      "outputs": [],
      "source": [
        "!git clone https://github.com/AmazingAng/WTF-Solidity.git"
      ]
    },
    {
      "cell_type": "code",
      "execution_count": null,
      "metadata": {
        "id": "8pyM1ssnYcnd"
      },
      "outputs": [],
      "source": [
        "!ls -alt WTF-Solidity"
      ]
    },
    {
      "cell_type": "code",
      "execution_count": 13,
      "metadata": {
        "id": "5xgbUBve0LuN"
      },
      "outputs": [],
      "source": [
        "from langchain.document_loaders import DirectoryLoader"
      ]
    },
    {
      "cell_type": "code",
      "execution_count": 14,
      "metadata": {
        "id": "UpOBdhBrdaiU"
      },
      "outputs": [],
      "source": [
        "def load_all_courses(solidity_root):\n",
        "  loader = DirectoryLoader(solidity_root, glob = \"**/readme.md\")\n",
        "  docs = loader.load()\n",
        "\n",
        "  return docs"
      ]
    },
    {
      "cell_type": "code",
      "execution_count": 15,
      "metadata": {
        "colab": {
          "base_uri": "https://localhost:8080/"
        },
        "id": "_-1itVpTY8Gz",
        "outputId": "cf6db449-f78d-47c5-ac1e-0771ad167761"
      },
      "outputs": [],
      "source": [
        "docs = load_all_courses(\"./WTF-Solidity/\")"
      ]
    },
    {
      "cell_type": "code",
      "execution_count": 16,
      "metadata": {
        "colab": {
          "base_uri": "https://localhost:8080/"
        },
        "id": "33zAThYjY9gA",
        "outputId": "bc6d338b-82e3-461f-be11-04b4f44af8fb"
      },
      "outputs": [
        {
          "name": "stdout",
          "output_type": "stream",
          "text": [
            "You have 149 document(s) in your data\n",
            "There are 3335 characters in your document\n"
          ]
        }
      ],
      "source": [
        "print (f'You have {len(docs)} document(s) in your data')\n",
        "print (f'There are {len(docs[0].page_content)} characters in your document')"
      ]
    },
    {
      "cell_type": "code",
      "execution_count": 17,
      "metadata": {
        "id": "ziV20FzmZpm1"
      },
      "outputs": [],
      "source": [
        "from langchain.text_splitter import RecursiveCharacterTextSplitter\n",
        "\n",
        "text_splitter = RecursiveCharacterTextSplitter(chunk_size=1000, chunk_overlap=0)\n",
        "split_docs = text_splitter.split_documents(docs)"
      ]
    },
    {
      "cell_type": "code",
      "execution_count": 18,
      "metadata": {
        "colab": {
          "base_uri": "https://localhost:8080/"
        },
        "id": "WlDqqN_6Z08T",
        "outputId": "c0f4d8f4-2840-41cf-c3fd-dd8da6b9a9fa"
      },
      "outputs": [
        {
          "name": "stdout",
          "output_type": "stream",
          "text": [
            "Now you have 729 documents\n"
          ]
        }
      ],
      "source": [
        "print (f'Now you have {len(split_docs)} documents')"
      ]
    },
    {
      "cell_type": "code",
      "execution_count": 20,
      "metadata": {
        "colab": {
          "base_uri": "https://localhost:8080/"
        },
        "id": "6IOlsXpbaIAw",
        "outputId": "1328822b-a65b-4237-f49d-34362d0d8e40"
      },
      "outputs": [],
      "source": [
        "from langchain.embeddings.openai import OpenAIEmbeddings\n",
        "from langchain.vectorstores import Chroma\n",
        "import os\n",
        "\n",
        "OPENAI_API_KEY = os.environ[\"OPENAI_API_KEY\"]"
      ]
    },
    {
      "cell_type": "code",
      "execution_count": 21,
      "metadata": {},
      "outputs": [],
      "source": [
        "embeddings = OpenAIEmbeddings(openai_api_key=OPENAI_API_KEY)"
      ]
    },
    {
      "cell_type": "code",
      "execution_count": 22,
      "metadata": {},
      "outputs": [],
      "source": [
        "persist_directory = 'chroma_storage'"
      ]
    },
    {
      "cell_type": "code",
      "execution_count": 23,
      "metadata": {
        "id": "1mQJJ8HRaf0I"
      },
      "outputs": [
        {
          "name": "stderr",
          "output_type": "stream",
          "text": [
            "Using embedded DuckDB with persistence: data will be stored in: chroma_storage\n"
          ]
        }
      ],
      "source": [
        "vectorstore = Chroma.from_documents(split_docs, embeddings, persist_directory=persist_directory)\n",
        "vectorstore.persist()"
      ]
    },
    {
      "cell_type": "code",
      "execution_count": 24,
      "metadata": {},
      "outputs": [
        {
          "name": "stderr",
          "output_type": "stream",
          "text": [
            "Using embedded DuckDB with persistence: data will be stored in: chroma_storage\n"
          ]
        }
      ],
      "source": [
        "# Load the vectorstore from disk\n",
        "vectordb = Chroma(persist_directory=persist_directory, embedding_function=embeddings)\n",
        "\n",
        "query = \"如何利用Solidity实现插入排序？\"\n",
        "docs = vectordb.similarity_search(query)"
      ]
    },
    {
      "cell_type": "code",
      "execution_count": 25,
      "metadata": {},
      "outputs": [
        {
          "name": "stdout",
          "output_type": "stream",
          "text": [
            "4\n"
          ]
        }
      ],
      "source": [
        "print(len(docs))"
      ]
    },
    {
      "cell_type": "code",
      "execution_count": 26,
      "metadata": {},
      "outputs": [
        {
          "name": "stdout",
          "output_type": "stream",
          "text": [
            "page_content='这一讲，我们介绍了solidity中控制流，并且用solidity写了插入排序。看起来很简单，但实际很难。这就是solidity，坑很多，每个月都有项目因为这些小bug损失几千万甚至上亿美元。掌握好基础，不断练习，才能写出更好的solidity代码。' metadata={'source': 'WTF-Solidity/10_InsertionSort/readme.md'}\n"
          ]
        }
      ],
      "source": [
        "print(docs[0])"
      ]
    },
    {
      "cell_type": "code",
      "execution_count": 27,
      "metadata": {},
      "outputs": [
        {
          "name": "stderr",
          "output_type": "stream",
          "text": [
            "Using embedded DuckDB with persistence: data will be stored in: chroma_storage\n",
            "No embedding_function provided, using default embedding function: SentenceTransformerEmbeddingFunction\n"
          ]
        },
        {
          "data": {
            "text/plain": [
              "[Collection(name=langchain)]"
            ]
          },
          "execution_count": 27,
          "metadata": {},
          "output_type": "execute_result"
        }
      ],
      "source": [
        "import chromadb\n",
        "from chromadb.config import Settings\n",
        "client = chromadb.Client(\n",
        "    Settings(\n",
        "        chroma_db_impl=\"duckdb+parquet\",\n",
        "        persist_directory=persist_directory))\n",
        "\n",
        "client.list_collections()"
      ]
    },
    {
      "cell_type": "code",
      "execution_count": 28,
      "metadata": {
        "id": "yBAx1_X-beQp"
      },
      "outputs": [],
      "source": [
        "from langchain.llms import OpenAI\n",
        "from langchain.chains.question_answering import load_qa_chain"
      ]
    },
    {
      "cell_type": "code",
      "execution_count": 29,
      "metadata": {
        "id": "V8hds-zybhfc"
      },
      "outputs": [],
      "source": [
        "llm = OpenAI(temperature=0, openai_api_key=OPENAI_API_KEY)\n",
        "chain = load_qa_chain(llm, chain_type=\"stuff\")\n",
        "\n",
        "query = \"如何利用Solidity实现插入排序？\"\n",
        "docs = vectorstore.similarity_search(query, 3, include_metadata=True)"
      ]
    },
    {
      "cell_type": "code",
      "execution_count": 31,
      "metadata": {
        "id": "K3SlreQ2haC4"
      },
      "outputs": [
        {
          "name": "stdout",
          "output_type": "stream",
          "text": [
            "3\n",
            "page_content='这一讲，我们介绍了solidity中控制流，并且用solidity写了插入排序。看起来很简单，但实际很难。这就是solidity，坑很多，每个月都有项目因为这些小bug损失几千万甚至上亿美元。掌握好基础，不断练习，才能写出更好的solidity代码。' metadata={'source': 'WTF-Solidity/10_InsertionSort/readme.md'}\n"
          ]
        }
      ],
      "source": [
        "print(len(docs))\n",
        "print(docs[0])"
      ]
    },
    {
      "cell_type": "code",
      "execution_count": 32,
      "metadata": {
        "id": "zdF03LqphOQY"
      },
      "outputs": [
        {
          "data": {
            "text/plain": [
              "' 可以使用以下Solidity代码实现插入排序：\\n\\nfunction insertionSort(uint[] memory a) public pure returns(uint[] memory) {\\n    // note that uint can not take negative value\\n    for (uint i = 1;i < a.length;i++){\\n        uint temp = a[i];\\n        uint j=i;\\n        while( (j >= 1) && (temp < a[j-1])){\\n            a[j] = a[j-1];\\n            j--;\\n        }\\n        a[j] = temp;\\n    }\\n    return(a);\\n}'"
            ]
          },
          "execution_count": 32,
          "metadata": {},
          "output_type": "execute_result"
        }
      ],
      "source": [
        "chain.run(input_documents=docs, question=query)"
      ]
    }
  ],
  "metadata": {
    "colab": {
      "authorship_tag": "ABX9TyM0eGuxfuj1Y6tqM2dKGEgf",
      "include_colab_link": true,
      "provenance": []
    },
    "kernelspec": {
      "display_name": "Python 3",
      "name": "python3"
    },
    "language_info": {
      "codemirror_mode": {
        "name": "ipython",
        "version": 3
      },
      "file_extension": ".py",
      "mimetype": "text/x-python",
      "name": "python",
      "nbconvert_exporter": "python",
      "pygments_lexer": "ipython3",
      "version": "3.9.16"
    }
  },
  "nbformat": 4,
  "nbformat_minor": 0
}
